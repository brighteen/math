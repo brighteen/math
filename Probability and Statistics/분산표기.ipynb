{
 "cells": [
  {
   "cell_type": "markdown",
   "id": "49019e34",
   "metadata": {},
   "source": [
    "# 분산의 일반적인 표기와 확률 가중 표기의 차이"
   ]
  },
  {
   "cell_type": "code",
   "execution_count": 1,
   "id": "88e53233",
   "metadata": {},
   "outputs": [
    {
     "name": "stdout",
     "output_type": "stream",
     "text": [
      "평균(μ): 3.5\n",
      "\n",
      "방법 1: Σ(x_i - μ)² / n = 2.9167\n",
      "방법 2: Σ(x_i - μ)² * p_i = 2.9167\n",
      "\n",
      "두 방법이 같은가? True\n",
      "차이: 0.0000000000\n",
      "\n",
      "== 증명 ==\n",
      "방법 1에서 p_i = 1/n = 1/6 = 0.1667\n",
      "따라서 방법 2 = Σ(x_i - μ)² * (1/n) = (1/n) * Σ(x_i - μ)² = 방법 1\n"
     ]
    }
   ],
   "source": [
    "import numpy as np\n",
    "\n",
    "# 주사위 데이터 설정\n",
    "values = np.array([1, 2, 3, 4, 5, 6])  # 주사위 눈\n",
    "probabilities = np.array([1/6, 1/6, 1/6, 1/6, 1/6, 1/6])  # 각 눈이 나올 확률\n",
    "n = len(values)\n",
    "\n",
    "# 평균(기댓값) 계산\n",
    "mu = np.sum(values * probabilities)\n",
    "print(f\"평균(μ): {mu}\")\n",
    "\n",
    "# 방법 1: 일반적인 표기 - sum(x_i - μ)² / n\n",
    "variance_1 = np.sum((values - mu)**2) / n\n",
    "print(f\"\\n방법 1: Σ(x_i - μ)² / n = {variance_1:.4f}\")\n",
    "\n",
    "# 방법 2: 확률 가중 표기 - Σ(x_i - μ)² * p_i\n",
    "variance_2 = np.sum((values - mu)**2 * probabilities)\n",
    "print(f\"방법 2: Σ(x_i - μ)² * p_i = {variance_2:.4f}\")\n",
    "\n",
    "# 검증\n",
    "print(f\"\\n두 방법이 같은가? {np.isclose(variance_1, variance_2)}\")\n",
    "print(f\"차이: {abs(variance_1 - variance_2):.10f}\")\n",
    "\n",
    "# 왜 같은지 보여주기\n",
    "print(f\"\\n== 증명 ==\")\n",
    "print(f\"방법 1에서 p_i = 1/n = 1/{n} = {1/n:.4f}\")\n",
    "print(f\"따라서 방법 2 = Σ(x_i - μ)² * (1/n) = (1/n) * Σ(x_i - μ)² = 방법 1\")"
   ]
  },
  {
   "cell_type": "markdown",
   "id": "72357145",
   "metadata": {},
   "source": [
    "# 편향된 주사위 (각 면이 다른 확률을 가짐)\n"
   ]
  },
  {
   "cell_type": "code",
   "execution_count": 2,
   "id": "2d24a494",
   "metadata": {},
   "outputs": [
    {
     "name": "stdout",
     "output_type": "stream",
     "text": [
      "편향된 주사위:\n",
      "값들: [1 2 3 4 5 6]\n",
      "확률들: [0.3  0.25 0.2  0.15 0.07 0.03]\n",
      "확률 합: 1.0\n",
      "\n",
      "평균(μ): 2.5300\n",
      "\n",
      "❌ 잘못된 방법 (1/n 사용): 3.8576\n",
      "✅ 올바른 방법 (p_i 사용): 1.9291\n",
      "\n",
      "차이: 1.9285\n",
      "→ 확률이 다르면 결과가 다릅니다!\n",
      "\n",
      "== 각 항목별 기여도 ==\n",
      "값 1: 잘못된 기여도=0.3902, 올바른 기여도=0.7023\n",
      "값 2: 잘못된 기여도=0.0468, 올바른 기여도=0.0702\n",
      "값 3: 잘못된 기여도=0.0368, 올바른 기여도=0.0442\n",
      "값 4: 잘못된 기여도=0.3601, 올바른 기여도=0.3241\n",
      "값 5: 잘못된 기여도=1.0168, 올바른 기여도=0.4271\n",
      "값 6: 잘못된 기여도=2.0068, 올바른 기여도=0.3612\n"
     ]
    }
   ],
   "source": [
    "\n",
    "values = np.array([1, 2, 3, 4, 5, 6])\n",
    "# 1이 자주 나오고, 6이 드물게 나오는 편향된 주사위\n",
    "probabilities = np.array([0.3, 0.25, 0.2, 0.15, 0.07, 0.03])\n",
    "\n",
    "print(\"편향된 주사위:\")\n",
    "print(f\"값들: {values}\")\n",
    "print(f\"확률들: {probabilities}\")\n",
    "print(f\"확률 합: {probabilities.sum()}\")\n",
    "\n",
    "# 평균 계산\n",
    "mu = np.sum(values * probabilities)\n",
    "print(f\"\\n평균(μ): {mu:.4f}\")\n",
    "\n",
    "# 방법 1: 잘못된 계산 (1/n 사용)\n",
    "n = len(values)\n",
    "wrong_variance = np.sum((values - mu)**2) / n\n",
    "print(f\"\\n❌ 잘못된 방법 (1/n 사용): {wrong_variance:.4f}\")\n",
    "\n",
    "# 방법 2: 올바른 계산 (각각의 확률 p_i 사용)\n",
    "correct_variance = np.sum((values - mu)**2 * probabilities)\n",
    "print(f\"✅ 올바른 방법 (p_i 사용): {correct_variance:.4f}\")\n",
    "\n",
    "print(f\"\\n차이: {abs(wrong_variance - correct_variance):.4f}\")\n",
    "print(\"→ 확률이 다르면 결과가 다릅니다!\")\n",
    "\n",
    "# 왜 다른지 구체적으로 보기\n",
    "print(f\"\\n== 각 항목별 기여도 ==\")\n",
    "deviations_squared = (values - mu)**2\n",
    "for i in range(len(values)):\n",
    "    wrong_contrib = deviations_squared[i] / n\n",
    "    correct_contrib = deviations_squared[i] * probabilities[i]\n",
    "    print(f\"값 {values[i]}: 잘못된 기여도={wrong_contrib:.4f}, 올바른 기여도={correct_contrib:.4f}\")"
   ]
  },
  {
   "cell_type": "markdown",
   "id": "b5cb822b",
   "metadata": {},
   "source": [
    "# 분산을 절대값을 사용해 구한다면?"
   ]
  },
  {
   "cell_type": "code",
   "execution_count": 5,
   "id": "22bf1b6a",
   "metadata": {},
   "outputs": [
    {
     "name": "stdout",
     "output_type": "stream",
     "text": [
      "주사위 기댓값(μ): 3.5\n",
      "\n",
      "=== 결과 비교 ===\n",
      "분산 (Variance): 2.9167\n",
      "표준편차 (Std Dev): 1.7078\n",
      "평균절대편차 (MAD): 1.5000\n"
     ]
    }
   ],
   "source": [
    "# 주사위 설정\n",
    "values = np.array([1, 2, 3, 4, 5, 6])\n",
    "probabilities = np.array([1/6] * 6)  # 공정한 주사위\n",
    "\n",
    "# 기댓값(평균) 계산\n",
    "mu = np.sum(values * probabilities)\n",
    "print(f\"주사위 기댓값(μ): {mu}\")\n",
    "\n",
    "# 1. 분산 계산 (제곱 방식)\n",
    "variance = np.sum((values - mu)**2 * probabilities)\n",
    "std_dev = np.sqrt(variance)\n",
    "\n",
    "# 2. 평균절대편차(MAD) 계산\n",
    "mad = np.sum(np.abs(values - mu) * probabilities)\n",
    "\n",
    "print(f\"\\n=== 결과 비교 ===\")\n",
    "print(f\"분산 (Variance): {variance:.4f}\")\n",
    "print(f\"표준편차 (Std Dev): {std_dev:.4f}\")\n",
    "print(f\"평균절대편차 (MAD): {mad:.4f}\")"
   ]
  },
  {
   "cell_type": "markdown",
   "id": "569d4057",
   "metadata": {},
   "source": [
    "# 각 값에서의 기여도 확인"
   ]
  },
  {
   "cell_type": "markdown",
   "id": "6c68a302",
   "metadata": {},
   "source": []
  },
  {
   "cell_type": "code",
   "execution_count": 6,
   "id": "be46e1a7",
   "metadata": {},
   "outputs": [
    {
     "name": "stdout",
     "output_type": "stream",
     "text": [
      "\n",
      "=== 각 주사위 눈별 기여도 ===\n",
      "값\t편차\t제곱편차\t절대편차\t분산기여도\tMAD기여도\n",
      "------------------------------------------------------------\n",
      "1\t-2.5\t6.25\t\t2.5\t\t1.0417\t\t0.4167\n",
      "2\t-1.5\t2.25\t\t1.5\t\t0.3750\t\t0.2500\n",
      "3\t-0.5\t0.25\t\t0.5\t\t0.0417\t\t0.0833\n",
      "4\t+0.5\t0.25\t\t0.5\t\t0.0417\t\t0.0833\n",
      "5\t+1.5\t2.25\t\t1.5\t\t0.3750\t\t0.2500\n",
      "6\t+2.5\t6.25\t\t2.5\t\t1.0417\t\t0.4167\n",
      "------------------------------------------------------------\n",
      "합계\t\t\t\t\t\t2.9167\t\t1.5000\n",
      "\n",
      "=== 편향된 주사위와의 비교 ===\n",
      "편향된 주사위 평균: 3.8500\n",
      "편향된 주사위 분산: 4.0098 (공정 대비 1.37배)\n",
      "편향된 주사위 MAD: 1.8500 (공정 대비 1.23배)\n"
     ]
    }
   ],
   "source": [
    "# 각 값별 기여도 분석\n",
    "print(f\"\\n=== 각 주사위 눈별 기여도 ===\")\n",
    "print(\"값\\t편차\\t제곱편차\\t절대편차\\t분산기여도\\tMAD기여도\")\n",
    "print(\"-\" * 60)\n",
    "\n",
    "total_var_contrib = 0\n",
    "total_mad_contrib = 0\n",
    "\n",
    "for i, x in enumerate(values):\n",
    "    deviation = x - mu\n",
    "    squared_dev = deviation**2\n",
    "    abs_dev = abs(deviation)\n",
    "    var_contrib = squared_dev * probabilities[i]\n",
    "    mad_contrib = abs_dev * probabilities[i]\n",
    "    \n",
    "    total_var_contrib += var_contrib\n",
    "    total_mad_contrib += mad_contrib\n",
    "    \n",
    "    print(f\"{x}\\t{deviation:+.1f}\\t{squared_dev:.2f}\\t\\t{abs_dev:.1f}\\t\\t{var_contrib:.4f}\\t\\t{mad_contrib:.4f}\")\n",
    "\n",
    "print(\"-\" * 60)\n",
    "print(f\"합계\\t\\t\\t\\t\\t\\t{total_var_contrib:.4f}\\t\\t{total_mad_contrib:.4f}\")\n",
    "\n",
    "# 이상치 영향 분석을 위한 편향된 주사위\n",
    "print(f\"\\n=== 편향된 주사위와의 비교 ===\")\n",
    "# 극단값(1,6)이 더 자주 나오는 경우\n",
    "biased_probs = np.array([0.25, 0.15, 0.15, 0.15, 0.15, 0.25])\n",
    "mu_biased = np.sum(values * biased_probs)\n",
    "var_biased = np.sum((values - mu_biased)**2 * biased_probs)\n",
    "mad_biased = np.sum(np.abs(values - mu_biased) * biased_probs)\n",
    "\n",
    "print(f\"편향된 주사위 평균: {mu_biased:.4f}\")\n",
    "print(f\"편향된 주사위 분산: {var_biased:.4f} (공정 대비 {var_biased/variance:.2f}배)\")\n",
    "print(f\"편향된 주사위 MAD: {mad_biased:.4f} (공정 대비 {mad_biased/mad:.2f}배)\")"
   ]
  }
 ],
 "metadata": {
  "kernelspec": {
   "display_name": "venv",
   "language": "python",
   "name": "python3"
  },
  "language_info": {
   "codemirror_mode": {
    "name": "ipython",
    "version": 3
   },
   "file_extension": ".py",
   "mimetype": "text/x-python",
   "name": "python",
   "nbconvert_exporter": "python",
   "pygments_lexer": "ipython3",
   "version": "3.11.9"
  }
 },
 "nbformat": 4,
 "nbformat_minor": 5
}
